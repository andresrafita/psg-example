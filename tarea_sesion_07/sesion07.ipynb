{
 "cells": [
  {
   "cell_type": "markdown",
   "metadata": {},
   "source": [
    "# Tipos de cadenas"
   ]
  },
  {
   "cell_type": "code",
   "execution_count": null,
   "metadata": {},
   "outputs": [],
   "source": [
    "simple = 'Mi cadena permite comillas \"dobles\" en una sola linea'\n",
    "doble = \"Mi cadena permite comillas 'simples' en una sola linea\"\n",
    "triple_simple = '''Mi cadena\n",
    "permite contenido\n",
    "en varias lineas y comillas \"dobles\"'''\n",
    "triple_doble = \"\"\"Mi cadena\n",
    "permite contenido\n",
    "en varias lineas y comillas 'simples'\"\"\"\n",
    "print(simple)\n",
    "print(doble)\n",
    "print(triple_simple)\n",
    "print(triple_doble)"
   ]
  },
  {
   "cell_type": "markdown",
   "metadata": {},
   "source": [
    "## Convertir cualquier valor a cadena"
   ]
  },
  {
   "cell_type": "code",
   "execution_count": null,
   "metadata": {},
   "outputs": [],
   "source": [
    "entero = str(1)\n",
    "flotante = str(1E-3)\n",
    "hexadecimal = str(0xA)\n",
    "booleano = str(True)\n",
    "print(entero)\n",
    "print(flotante)\n",
    "print(hexadecimal)\n",
    "print(booleano)\n",
    "print(type(entero))\n",
    "print(type(flotante))\n",
    "print(type(hexadecimal))\n",
    "print(type(booleano))"
   ]
  },
  {
   "cell_type": "markdown",
   "metadata": {},
   "source": [
    "### Uso del backslash"
   ]
  },
  {
   "cell_type": "code",
   "execution_count": null,
   "metadata": {},
   "outputs": [],
   "source": [
    "print(\"El mensaje enviado fue: \\\"Hello, I\\'m a message\\\"\")\n",
    "print('El mensaje enviado fue: \\\"Hello, I\\'m a message\\\"')"
   ]
  },
  {
   "cell_type": "markdown",
   "metadata": {},
   "source": [
    "### Uso de la funcion input()"
   ]
  },
  {
   "cell_type": "code",
   "execution_count": null,
   "metadata": {},
   "outputs": [],
   "source": [
    "entrada = input('Ingrese un valor: ')\n",
    "print(entrada)\n",
    "print(type(entrada))\n",
    "\n",
    "entero = int(input('Ingrese un valor entero: '))\n",
    "print(entero, type(entero))\n",
    "\n",
    "flotante = float(input('Ingrese un valor flotante: '))\n",
    "print(flotante, type(flotante))\n",
    "\n",
    "booleano = bool(input('Ingrese un valor booleano: '))\n",
    "print(booleano, type(booleano))"
   ]
  },
  {
   "cell_type": "markdown",
   "metadata": {},
   "source": [
    "### Manejo de índices"
   ]
  },
  {
   "cell_type": "code",
   "execution_count": null,
   "metadata": {},
   "outputs": [],
   "source": [
    "print('Indexado positivo')\n",
    "fruta = 'banana'\n",
    "print(fruta)\n",
    "print(fruta[0])\n",
    "print(fruta[5])\n",
    "\n",
    "print('Indexado negativo')\n",
    "fruta = 'banana'\n",
    "print(fruta)\n",
    "print(fruta[-1])\n",
    "print(fruta[-3])"
   ]
  },
  {
   "cell_type": "markdown",
   "metadata": {},
   "source": [
    "## Slicing\n",
    "\n",
    "> secuencia[inicio:fin:paso]"
   ]
  },
  {
   "cell_type": "code",
   "execution_count": null,
   "metadata": {},
   "outputs": [],
   "source": [
    "print('Slicing')\n",
    "ciudad = 'LaPaz-Bolivia'\n",
    "print(ciudad)\n",
    "print('Slicing con indices positivos')\n",
    "print(ciudad[0:6])\n",
    "print(ciudad[0:6:2])\n",
    "print('Slicing con indices negativos')\n",
    "print(ciudad[-10:-2])\n",
    "print(ciudad[-10:-2:2])\n",
    "\n",
    "print('Slicing sin indice inicial y final')\n",
    "print(ciudad[:6])\n",
    "print(ciudad[6:])\n",
    "print('Slicing sin indice inicial ni final')\n",
    "print(ciudad[:])\n",
    "print(ciudad[::2])\n",
    "\n",
    "print('Slicing con paso negativo')\n",
    "print(ciudad[10:4:-1])\n",
    "print(ciudad[10::-2])"
   ]
  },
  {
   "cell_type": "markdown",
   "metadata": {},
   "source": [
    "### Concatenación de cadenas"
   ]
  },
  {
   "cell_type": "code",
   "execution_count": null,
   "metadata": {},
   "outputs": [],
   "source": [
    "cadena1 = 'Hola'\n",
    "cadena2 = 'Mundo'\n",
    "concatenada = cadena1 + ' ' + cadena2\n",
    "print(concatenada)"
   ]
  },
  {
   "cell_type": "markdown",
   "metadata": {},
   "source": [
    "### Repetición de cadenas"
   ]
  },
  {
   "cell_type": "code",
   "execution_count": null,
   "metadata": {},
   "outputs": [],
   "source": [
    "cadena = '-#-'\n",
    "repetida = cadena * 10\n",
    "print(repetida)"
   ]
  },
  {
   "cell_type": "markdown",
   "metadata": {},
   "source": [
    "### Longitud de cadena"
   ]
  },
  {
   "cell_type": "code",
   "execution_count": null,
   "metadata": {},
   "outputs": [],
   "source": [
    "cadena = 'Hola Mundo :D'\n",
    "longitud = len(cadena)\n",
    "print(cadena)\n",
    "print(longitud,type(longitud))"
   ]
  },
  {
   "cell_type": "markdown",
   "metadata": {},
   "source": [
    "## Métodos de cadenas\n",
    "\n",
    "> cadena.funcion()\n",
    "\n",
    "### Función upper()"
   ]
  },
  {
   "cell_type": "code",
   "execution_count": null,
   "metadata": {},
   "outputs": [],
   "source": [
    "cadena = 'cadena inicial #1'\n",
    "mayuscula = cadena.upper()\n",
    "print(cadena)\n",
    "print(mayuscula)"
   ]
  },
  {
   "cell_type": "markdown",
   "metadata": {},
   "source": [
    "### Función lower()"
   ]
  },
  {
   "cell_type": "code",
   "execution_count": null,
   "metadata": {},
   "outputs": [],
   "source": [
    "cadena = 'CADENA INICIAL #2'\n",
    "minuscula = cadena.lower()\n",
    "print(cadena)\n",
    "print(minuscula)"
   ]
  },
  {
   "cell_type": "markdown",
   "metadata": {},
   "source": [
    "### Función capitalize()"
   ]
  },
  {
   "cell_type": "code",
   "execution_count": null,
   "metadata": {},
   "outputs": [],
   "source": [
    "cadena = 'Cadena INICIAL #3'\n",
    "capital = cadena.capitalize()\n",
    "print(cadena)\n",
    "print(capital)"
   ]
  },
  {
   "cell_type": "markdown",
   "metadata": {},
   "source": [
    "### Función title()"
   ]
  },
  {
   "cell_type": "code",
   "execution_count": null,
   "metadata": {},
   "outputs": [],
   "source": [
    "cadena = 'CADENA inicial #4'\n",
    "titulo = cadena.title()\n",
    "print(cadena)\n",
    "print(titulo)"
   ]
  },
  {
   "cell_type": "markdown",
   "metadata": {},
   "source": [
    "### Función swapcase()"
   ]
  },
  {
   "cell_type": "code",
   "execution_count": null,
   "metadata": {},
   "outputs": [],
   "source": [
    "cadena = 'CADena InIcIaL #5'\n",
    "swap = cadena.swapcase()\n",
    "print(cadena)\n",
    "print(swap)"
   ]
  },
  {
   "cell_type": "markdown",
   "metadata": {},
   "source": [
    "### Función count()"
   ]
  },
  {
   "cell_type": "code",
   "execution_count": null,
   "metadata": {},
   "outputs": [],
   "source": [
    "cadena = 'Cantidad de veces la letra A'\n",
    "contar = cadena.count('a')\n",
    "print(cadena)\n",
    "print(contar, type(contar))"
   ]
  },
  {
   "cell_type": "markdown",
   "metadata": {},
   "source": [
    "### Función find()"
   ]
  },
  {
   "cell_type": "code",
   "execution_count": null,
   "metadata": {},
   "outputs": [],
   "source": [
    "cadena = 'Encontrar las letras las'\n",
    "buscar = cadena.find('las')\n",
    "print(cadena)\n",
    "print(buscar, type(buscar))"
   ]
  },
  {
   "cell_type": "markdown",
   "metadata": {},
   "source": [
    "### Función rfind()"
   ]
  },
  {
   "cell_type": "code",
   "execution_count": null,
   "metadata": {},
   "outputs": [],
   "source": [
    "cadena = 'Encontrar las letras las'\n",
    "buscar = cadena.rfind('las')\n",
    "print(cadena)\n",
    "print(buscar, type(buscar))"
   ]
  },
  {
   "cell_type": "markdown",
   "metadata": {},
   "source": [
    "#### Buscar números, alfabetos y alfanuméricos"
   ]
  },
  {
   "cell_type": "code",
   "execution_count": null,
   "metadata": {},
   "outputs": [],
   "source": [
    "print('funcion isdigit')\n",
    "resultado = '100'.isdigit()\n",
    "print(resultado,type(resultado))\n",
    "print('funcion isaplha')\n",
    "resultado = 'Hola'.isalpha()\n",
    "print(resultado,type(resultado))\n",
    "print('funcion isalnum')\n",
    "resultado = 'usuario123'.isalnum()\n",
    "print(resultado,type(resultado))"
   ]
  },
  {
   "cell_type": "markdown",
   "metadata": {},
   "source": [
    "### Función split()"
   ]
  },
  {
   "cell_type": "code",
   "execution_count": null,
   "metadata": {},
   "outputs": [],
   "source": [
    "cadena = 'pan,carne,huevos'\n",
    "separado = cadena.split(',')\n",
    "print(cadena)\n",
    "print(separado,type(separado))"
   ]
  },
  {
   "cell_type": "markdown",
   "metadata": {},
   "source": [
    "### Función join()"
   ]
  },
  {
   "cell_type": "code",
   "execution_count": null,
   "metadata": {},
   "outputs": [],
   "source": [
    "cadena = 'abcdefghij'\n",
    "unido = '-'.join(cadena)\n",
    "print(cadena)\n",
    "print(unido)"
   ]
  },
  {
   "cell_type": "markdown",
   "metadata": {},
   "source": [
    "### Función strip() (util para la limpieza de datos en forms)"
   ]
  },
  {
   "cell_type": "code",
   "execution_count": null,
   "metadata": {},
   "outputs": [],
   "source": [
    "cadena = '  Hola    Mundo   '\n",
    "limpio = cadena.strip()\n",
    "print(cadena)\n",
    "print(limpio)\n",
    "cadena = '-abc--def-ghi-cba----'\n",
    "limpio = cadena.strip('bac-')\n",
    "print(cadena)\n",
    "print(limpio)"
   ]
  },
  {
   "cell_type": "markdown",
   "metadata": {},
   "source": [
    "### Función replace()"
   ]
  },
  {
   "cell_type": "code",
   "execution_count": null,
   "metadata": {},
   "outputs": [],
   "source": [
    "cadena = 'Me gusta programar en JS, Amo JS'\n",
    "reemplazado = cadena.replace('JS','Python')\n",
    "print(cadena)\n",
    "print(reemplazado)"
   ]
  },
  {
   "cell_type": "markdown",
   "metadata": {},
   "source": [
    "### Función format()"
   ]
  },
  {
   "cell_type": "code",
   "execution_count": null,
   "metadata": {},
   "outputs": [],
   "source": [
    "cadena = 'El valor de PI es: {}'\n",
    "formateado = cadena.format(3.1416)\n",
    "print(cadena)\n",
    "print(formateado)"
   ]
  },
  {
   "cell_type": "markdown",
   "metadata": {},
   "source": [
    "#### Función format con indices y con nombres"
   ]
  },
  {
   "cell_type": "code",
   "execution_count": null,
   "metadata": {},
   "outputs": [],
   "source": [
    "print('funcion format con indices')\n",
    "cadena = '{2} es la suma de {0} y {1}'\n",
    "valor1 = 5\n",
    "valor2 = 3\n",
    "resultado = valor1+valor2\n",
    "formateado = cadena.format(valor1,valor2,resultado)\n",
    "print(cadena)\n",
    "print(formateado)\n",
    "\n",
    "print('funcion format con nombres')\n",
    "cadena = '{ciudad} es la capital de {pais}'\n",
    "pais = 'Francia'\n",
    "ciudad = 'Paris'\n",
    "formateado = cadena.format(pais=pais, ciudad=ciudad)\n",
    "print(cadena)\n",
    "print(formateado)"
   ]
  },
  {
   "cell_type": "markdown",
   "metadata": {},
   "source": [
    "### Función format con f-string() (Manera mas eficiente)"
   ]
  },
  {
   "cell_type": "code",
   "execution_count": null,
   "metadata": {},
   "outputs": [],
   "source": [
    "moneda = 'Boliviano'\n",
    "pais = 'Bolivia'\n",
    "formateado = f'La moneda de {pais} es el {moneda}'\n",
    "print(formateado)"
   ]
  }
 ],
 "metadata": {
  "language_info": {
   "name": "python"
  }
 },
 "nbformat": 4,
 "nbformat_minor": 2
}
