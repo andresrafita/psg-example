{
 "cells": [
  {
   "cell_type": "markdown",
   "metadata": {},
   "source": [
    "# Estructura de funcion"
   ]
  },
  {
   "cell_type": "code",
   "execution_count": null,
   "metadata": {},
   "outputs": [],
   "source": [
    "def funcion():\n",
    "    print(\"Bloque de codigo\")\n",
    "\n",
    "funcion()\n",
    "\n",
    "### Ejemplo1: Crear una funcion para imprimir una lista de 10 numero pares y llamarla dos veces\n",
    "print (\"Ejemplo 1\")\n",
    "print (\"1. Definir función\")\n",
    "def imprimir_pares():\n",
    "    pares = [i for i in range(0, 21, 2)]\n",
    "    print (pares)\n",
    " \n",
    "print (\"2. Llamar función\")\n",
    "imprimir_pares()\n",
    "imprimir_pares()\n",
    "\n",
    "#### Ejercicio1: crear una funcion que imprima un mensaje de bienvenida del siguiente conjunto de forma aleatoria\n",
    "#### mensajes = {\"Bienvenido al Python Study Group 🐍\",\n",
    "#### \"¡Hola y bienvenido al Python Study Group! ✨\",\n",
    "#### \"Hola, aprendamos Python juntos 🐍\"}\n",
    "def bienvenida():\n",
    "    mensajes = {\"Bienvenido al Python Study Group 🐍\",\n",
    "    \"¡Hola y bienvenido al Python Study Group! ✨\",\n",
    "    \"Hola, aprendamos Python juntos 🐍\"}\n",
    "    print (mensajes.pop())\n",
    "bienvenida()"
   ]
  },
  {
   "cell_type": "markdown",
   "metadata": {},
   "source": [
    "# Funcion sin argumentos y con un retorno"
   ]
  },
  {
   "cell_type": "code",
   "execution_count": null,
   "metadata": {},
   "outputs": [],
   "source": [
    "def funcion():\n",
    "    return \"Bloque de codigo\"\n",
    "resultado = funcion()\n",
    "print(resultado)\n",
    "\n",
    "### Ejemplo 2, crear una funcion que devuelva un saludo en diferentes idiomas\n",
    "print (\"Ejemplo 2\")\n",
    "print (\"1. Definir función\")\n",
    "def saludo():\n",
    "    saludos = {\"Hola\", \"Hello\", \"Bonjour\", \"Ciao\"}\n",
    "    return saludos.pop()\n",
    "print (\"2. Llamar función\")\n",
    "resultado = saludo()\n",
    "print (resultado)\n",
    "\n",
    "#### Ejercicio2: Devolver una fruta aleatoria del siguiente conjunto\n",
    "#### frutas = {'🍅','🍌','🍎','🍇','🍉'}\n",
    "def devolver_fruta():\n",
    "    frutas = {'🍅','🍌','🍎','🍇','🍉'}\n",
    "    return frutas.pop()\n",
    "\n",
    "fruta = devolver_fruta()\n",
    "print (fruta)"
   ]
  },
  {
   "cell_type": "markdown",
   "metadata": {},
   "source": [
    "# Funcion sin argumentos y con multiples retornos"
   ]
  },
  {
   "cell_type": "code",
   "execution_count": null,
   "metadata": {},
   "outputs": [],
   "source": [
    "def funcion():\n",
    "    return \"Bloque\", \"de\", \"codigo\"\n",
    "resultado = funcion()\n",
    "print(resultado)\n",
    "\n",
    "### Ejemplo3, crear una funcion que devuelva un saludo en dos idiomas\n",
    "print (\"Ejemplo 3\")\n",
    "print (\"1. Definir función\")\n",
    "def saludo():\n",
    "    saludos_es = {\"Hola\", \"Holi\", \"Buenos días\"}\n",
    "    saludos_en = {\"Hello\", \"Hi\", \"Good morning\"}\n",
    "    return saludos_es.pop(), saludos_en.pop()\n",
    "print (\"2. Llamar función\")\n",
    "resultado = saludo()\n",
    "print (resultado)\n",
    "\n",
    "#### Ejercicio4: Devolver una fruta y un color aleatorio de los siguientes conjuntos\n",
    "#### {'🍅','🍌','🍎','🍇','🍉'}\n",
    "#### {'🔴','🟠','🟡','🟢','🔵'}\n",
    "def devolver_fruta_color():\n",
    "    frutas = {'🍅','🍌','🍎','🍇','🍉'}\n",
    "    colores = {'🔴','🟠','🟡','🟢','🔵'}\n",
    "    return frutas.pop(), colores.pop()\n",
    "\n",
    "fruta, color = devolver_fruta_color()\n",
    "print (fruta, color)"
   ]
  },
  {
   "cell_type": "markdown",
   "metadata": {},
   "source": [
    "# Funcion con un argumento y sin retorno"
   ]
  },
  {
   "cell_type": "code",
   "execution_count": null,
   "metadata": {},
   "outputs": [],
   "source": [
    "### Ejemplo4: crear una funcion que imprima el cuadrado de un numero\n",
    "print (\"Ejemplo 4\")\n",
    "print (\"1. Definir función\")\n",
    "def cuadrado(numero):\n",
    "    print (numero**2)\n",
    " \n",
    "print (\"2. Llamar función\")\n",
    "cuadrado(5)\n",
    "cuadrado(10)\n",
    "\n",
    "#### Crear una funcion que imprima el mensaje de bienvenida de acuerdo al idioma enviado como argumento, si no existe imprimir un mensaje por defecto\n",
    "#### mensajes = {\"es\":\"Bienvenido al Python Study Group 🐍\",\n",
    "#### \"en\": \"Hello and welcome to the Python Study Group! ✨\",}\n",
    "\n",
    "def bienvenida(idioma):\n",
    "    mensajes = {\n",
    "        \"es\":\"Bienvenido al Python Study Group 🐍\",\n",
    "        \"en\": \"Hello and welcome to the Python Study Group! ✨\",\n",
    "    }\n",
    "    print (mensajes.get(idioma, \"¡Hola!\"))\n",
    "\n",
    "bienvenida(\"es\")\n",
    "bienvenida(\"en\")\n",
    "bienvenida(\"fr\")"
   ]
  },
  {
   "cell_type": "markdown",
   "metadata": {},
   "source": [
    "# Funcion con multiples argumentos y sin retorno"
   ]
  },
  {
   "cell_type": "code",
   "execution_count": null,
   "metadata": {},
   "outputs": [],
   "source": [
    "### Ejemplo5: crear una funcion que reciba una cadena y un entero y repita la cadena el numero de veces\n",
    "print (\"Ejemplo 5\")\n",
    "print (\"1. Definir función\")\n",
    "def repetir(cadena, veces):\n",
    "    print (cadena*veces)\n",
    "print (\"2. Llamar función\")\n",
    "repetir(\"✨🎉\", 10)\n",
    "\n",
    "#### Ejercicio5: Crear un funcion que reciba una lista de animales, un entero y devuelva una lista con los animales repetidos el numero de veces\n",
    "#### ['🐶','🐱','🐭','🐹','🐰']\n",
    "def repetir_animales(animales, veces):\n",
    "    lista = [animal*veces for animal in animales]\n",
    "    print (lista)\n",
    "\n",
    "animales = ['🐶','🐱','🐭','🐹','🐰']\n",
    "repetir_animales(animales, 3)\n",
    "\n",
    "print (resultado)"
   ]
  },
  {
   "cell_type": "markdown",
   "metadata": {},
   "source": [
    "# Funciones con multiples argumentos y con un retorno"
   ]
  },
  {
   "cell_type": "code",
   "execution_count": null,
   "metadata": {},
   "outputs": [],
   "source": [
    "### Ejemplo6: crear una funcion qeu reciba dos numeros y devuelva una lista con la suma, resta, multiplicacion y division de los numeros\n",
    "print (\"Ejemplo 6\")\n",
    "print (\"1. Definir función\")\n",
    "def operaciones(numero1, numero2):\n",
    "    suma = numero1 + numero2\n",
    "    resta = numero1 - numero2\n",
    "    multiplicacion = numero1 * numero2\n",
    "    division = numero1 / numero2\n",
    "    return [suma, resta, multiplicacion, division]\n",
    " \n",
    "print (\"2. Llamar función\")\n",
    "resultado = operaciones(10, 5)\n",
    "print (resultado)\n",
    "\n",
    "#### Ejercicio6: Crear una funcion que reciba dos enteros y una cadena devolver el resultado de la operacion de los numeros egun la cadena puede ser suma, resta, multiplicacion o division\n",
    "def operacion(numero1, numero2, operacion):\n",
    "    if operacion == \"suma\":\n",
    "        return numero1 + numero2\n",
    "    elif operacion == \"resta\":\n",
    "        return numero1 - numero2\n",
    "    elif operacion == \"multiplicacion\":\n",
    "        return numero1 * numero2\n",
    "    elif operacion == \"division\":\n",
    "        return numero1 / numero2\n",
    "    else:\n",
    "        return \"Operación no válida\"\n",
    "\n",
    "resultado = operacion(10, 5, \"suma\")\n",
    "print (resultado)"
   ]
  },
  {
   "cell_type": "markdown",
   "metadata": {},
   "source": [
    "# Funcion con multiples argumentos y con multiples retornos"
   ]
  },
  {
   "cell_type": "code",
   "execution_count": null,
   "metadata": {},
   "outputs": [],
   "source": [
    "### Ejemplo7: crear una funcion que reciba dos numeros y devuelva la suma, resta, multiplicacion y division de los dos numeros\n",
    "print (\"Ejemplo 7\")\n",
    "print (\"1. Definir función\")\n",
    "def operaciones(numero1, numero2):\n",
    "    suma = numero1 + numero2\n",
    "    resta = numero1 - numero2\n",
    "    multiplicacion = numero1 * numero2\n",
    "    division = numero1 / numero2\n",
    "    return suma, resta, multiplicacion, division\n",
    " \n",
    "print (\"2. Llamar función\")\n",
    "suma, resta, multiplicacion, division = operaciones(10, 5)\n",
    "print (suma, resta, multiplicacion, division)\n",
    "\n",
    "#### Ejercicio7: Crear un juego de piedra,papel o tijera, donde reciba dos jugadas por teclado y devuelva las jugadas y el resultado, si ingresa \"salir\", entonces terminar el juego\n",
    "def jugar_piedra_papel_tijera(jugada1, jugada2):\n",
    "    if jugada1 == jugada2:\n",
    "        resultado = \"Empate\"\n",
    "    elif jugada1 == \"piedra\" and jugada2 == \"tijera\":\n",
    "        resultado = \"Jugador 1 gana\"\n",
    "    elif jugada1 == \"papel\" and jugada2 == \"piedra\":\n",
    "        resultado = \"Jugador 1 gana\"\n",
    "    elif jugada1 == \"tijera\" and jugada2 == \"papel\":\n",
    "        resultado = \"Jugador 1 gana\"\n",
    "    else:\n",
    "        resultado = \"Jugador 2 gana\"\n",
    "    return jugada1, jugada2, resultado\n",
    "\n",
    "while True:\n",
    "    jugador1 = input(\"Jugador 1: \")\n",
    "    if jugador1 == \"salir\":\n",
    "        break\n",
    "    jugador2 = input(\"Jugador 2: \")\n",
    "    if jugador2 == \"salir\":\n",
    "        break\n",
    "    resultado = jugar_piedra_papel_tijera(jugador1, jugador2)\n",
    "    print (resultado)"
   ]
  },
  {
   "cell_type": "markdown",
   "metadata": {},
   "source": [
    "# Variable global"
   ]
  },
  {
   "cell_type": "code",
   "execution_count": null,
   "metadata": {},
   "outputs": [],
   "source": [
    "\"\"\"\n",
    "def funcion():\n",
    "    variable_local = \"Variable local\"\n",
    "    print(variable_global)\n",
    "    print(variable_local)\n",
    "funcion()\n",
    "print(variable_global)\n",
    "print(variable_local)\n",
    "\"\"\"\n",
    "\n",
    "### Ejemplo8: de la siguiente lista de numeros obtener el mayor y menor numero con una funcion\n",
    "numeros = [10,5,20,15,25,30] #global\n",
    "\n",
    "def mayor_menor(): #no recibe argumentos\n",
    "    mayor = max(numeros) #local\n",
    "    menor = min(numeros) #local\n",
    "    return mayor, menor #devuelve dos valores\n",
    "\n",
    "resultado = mayor_menor()\n",
    "print(resultado)\n",
    "\n",
    "#### Ejercicio8: de la siguiente cadena global convertir en formato titulo y contar las vocales aeiou con una funcion\n",
    "def formato_vocales():\n",
    "    titulo = cadena.title()\n",
    "    vocales = sum([1 for letra in titulo if letra in \"aeiou\"])\n",
    "    return titulo, vocales\n",
    "cadena = \"python es un lenguaje de programación\"\n",
    "resultado = formato_vocales\n",
    "\n",
    "print(resultado)"
   ]
  },
  {
   "cell_type": "markdown",
   "metadata": {},
   "source": [
    "# Estructura de un *arg"
   ]
  },
  {
   "cell_type": "code",
   "execution_count": null,
   "metadata": {},
   "outputs": [],
   "source": [
    "def function(*args):\n",
    "    print(args)\n",
    "    print(type(args))\n",
    "funcion(\"Bloque\",\"de\",\"codigo\")\n",
    "\n",
    "### Ejemplo 9: crear una funcion que reciba un numero y una cantidad de cadenas, concatene las cadenas y la devuelva repetida N veces\n",
    "print(\"1. Definir función\")\n",
    "def concatenar(numero, *cadenas):\n",
    "    concatenado = \"\"\n",
    "    for cadena in cadenas:\n",
    "        concatenado += cadena\n",
    "    return concatenado*numero\n",
    "\n",
    "print(\"2. Llamar función\")\n",
    "resultado = concatenar(3,\"🍎\",\"🍌\",\"🍍\")\n",
    "print(resultado)\n",
    "\n",
    "#### Ejercicio9: crear una funcion que reciba N objetos y genere una tupla y una lista con los objetos usando *args\n",
    "def tupla_lista(*args):\n",
    "    tupla = tuple(args)\n",
    "    lista = list(args)\n",
    "    return tupla,lista\n",
    "\n",
    "lista,tupla = tupla_lista(1,1.1, True, \"🍎\")\n",
    "print(lista)\n",
    "print(tupla)\n",
    "\n",
    "# Estructura de un **kwargs\n",
    "def funcion(**kwargs):\n",
    "    print(kwargs)\n",
    "    print(type(kwargs))\n",
    "\n",
    "funcion(nombre=\"Jhon\",apellido=\"Doe\",genero=\"M\")"
   ]
  },
  {
   "cell_type": "markdown",
   "metadata": {},
   "source": [
    "# Estructura de un **kwargs"
   ]
  },
  {
   "cell_type": "code",
   "execution_count": null,
   "metadata": {},
   "outputs": [],
   "source": [
    "def funcion(**kwargs):\n",
    "    print(kwargs)\n",
    "    print(type(kwargs))\n",
    "\n",
    "funcion(nombre=\"Jhon\",apellido=\"Doe\",genero=\"M\")\n",
    "\n",
    "### Ejemplo10: crear una funcion que reciba los datos de una persona y devuelva un mensaje con los datos\n",
    "print(\"1. Definir función\")\n",
    "def datos_persona(**datos):\n",
    "    mensaje = \"\"\n",
    "    for clave, valor in datos.items():\n",
    "        mensaje += f\"{str(clave).title()}: {str(valor).upper()}\\n\"\n",
    "    return mensaje\n",
    "print(\"2. Llamar función\")\n",
    "resultado = datos_persona(nombre=\"Jhon\", apellido=\"Doe\",edad=20, boliviano=True)\n",
    "print(resultado)\n",
    "\n",
    "#### Ejercicio10: crea un simulador de lavar platos con una función que reciba los objetos a lavar y el tiempo de lavado de cada objeto devuelva un mensaje con los objetos lavados y el tiempo total de lavado\n",
    "def lavar(**objetos):\n",
    "    tiempo_total=0\n",
    "    mensaje=\"\"\n",
    "    for objeto, tiempo in objetos.items():\n",
    "        tiempo_total += tiempo\n",
    "        mensaje += f\"{objeto}: {tiempo} minutos\\n\"\n",
    "    mensaje += f\"Tiempo total: {tiempo_total} minutos\"\n",
    "    return mensaje\n",
    "resultado = lavar(plato=5,vaso=3,tenedor=1,cuchara=0.5)\n",
    "print(resultado)"
   ]
  },
  {
   "cell_type": "markdown",
   "metadata": {},
   "source": [
    "# Acceso a la documentación con .__doc__"
   ]
  },
  {
   "cell_type": "code",
   "execution_count": null,
   "metadata": {},
   "outputs": [],
   "source": [
    "print(\"Acceso a la documentación\")\n",
    "def funcion():\n",
    "    \"\"\"\n",
    "    Documentacion aqui\n",
    "    \"\"\"\n",
    "    print(\"Bloque de codigo\")\n",
    "print(funcion.__doc__)\n",
    "print(\"Fin de la ejecución\")\n",
    "\n",
    "### Ejemplo11: crear tres funciones una principal que reciba un numero y dos funciones anidads que devuelvan el cuadrado y el cubo del numero\n",
    "print(\"1. Definir funcion principal\")\n",
    "def principal(numero):\n",
    "    cuadrado = cuadrado_numero(numero)\n",
    "    cubo = cubo_numero(numero)\n",
    "    return cuadrado, cubo\n",
    "print(\"2. Definir funcion Cuadrado\")\n",
    "def cuadrado_numero(numero):\n",
    "    return numero**2\n",
    "print(\"3. Definir funcion Cubo\")\n",
    "def cubo_numero(numero):\n",
    "    return numero**3\n",
    "\n",
    "#### Ejercicio11: crear funciones de limpieza de una cadena para obtener las letras y convertir todo en mayusculas crea funciones de limpieza y funcion una princial\n",
    "def limpiar_letras(cadena):\n",
    "    \"\"\"\n",
    "    Elimina los numeros de una cadena y espacios\n",
    "    \"\"\"\n",
    "    return \"\".join([letra for letra in cadena if letra.isalpha()])\n",
    "def limpiar_mayusculas(cadena):\n",
    "    \"\"\"\n",
    "    Convierte una cadena en mayusculas\n",
    "    \"\"\"\n",
    "    return cadena.upper()\n",
    "def limpiar(cadena):\n",
    "    cadena = limpiar_letras(cadena)\n",
    "    cadena = limpiar_mayusculas(cadena)"
   ]
  },
  {
   "cell_type": "markdown",
   "metadata": {},
   "source": [
    "# Funcion recursiva"
   ]
  },
  {
   "cell_type": "code",
   "execution_count": null,
   "metadata": {},
   "outputs": [],
   "source": [
    "print(\"1. Definir función\")\n",
    "def numero_par(numero):\n",
    "    if numero == 0:\n",
    "        return 0\n",
    "    else:\n",
    "        return numero_par(numero-1)+2\n",
    "print(\"2. Llamar funcion\")\n",
    "resultado = numero_par(10)\n",
    "print(resultado)\n",
    "\n",
    "### Ejemplo12: crear una funcion recursiva para obtener el 10mo numero par\n",
    "print (\"Ejemplo 12\")\n",
    "print (\"1. Definir función\")\n",
    "def numero_par(numero):\n",
    "    if numero == 0:\n",
    "        return 0\n",
    "    else:\n",
    "        return numero_par(numero-1) + 2\n",
    " \n",
    "print (\"2. Llamar función\")\n",
    "resultado = numero_par(10)\n",
    "print (resultado)\n",
    "\n",
    "#### Ejercicio12: Crear una funcion recursiva para obtener el factorial de un numero (5! = 5*4*3*2*1 = 120)\n",
    "def factorial(n):\n",
    "    # Caso base: factorial de 0 es 1\n",
    "    if n == 0:\n",
    "        return 1\n",
    "    # Caso recursivo: factorial de n es n * factorial(n-1)\n",
    "    else:\n",
    "        return n * factorial(n-1)\n",
    "\n",
    "# Ejemplo de uso\n",
    "numero = 5\n",
    "resultado = factorial(numero)\n",
    "print(f\"El factorial de {numero} es: {resultado}\")"
   ]
  },
  {
   "cell_type": "markdown",
   "metadata": {},
   "source": [
    "# Funcion anonima o lambda\n",
    "# lambda argumento: expresion"
   ]
  },
  {
   "cell_type": "code",
   "execution_count": null,
   "metadata": {},
   "outputs": [],
   "source": [
    "### Ejemplo13: crear una funcion anonima para obtener el cuadrado de un numero\n",
    "print (\"Ejemplo 13\")\n",
    "cuadrado = lambda numero: numero**2\n",
    "resultado = cuadrado(5)\n",
    "print (resultado)\n",
    "resultado = cuadrado(10)\n",
    "print (resultado)\n",
    "\n",
    "#### Ejercicio13: Crear una funcion anonima para obtener de una cadena las letras solo los alfanumericos y convertir en mayusculas: \n",
    "#### Cadena = \"Python es un lenguaje de programación\"\n",
    "cadena = \"Python es un lenguaje de programación\"\n",
    "limpiar = lambda cadena: \"\".join([letra for letra in cadena if letra.isalnum()]).upper()\n",
    "resultado = limpiar(cadena)\n",
    "print (cadena)\n",
    "print (resultado)"
   ]
  }
 ],
 "metadata": {
  "language_info": {
   "name": "python"
  }
 },
 "nbformat": 4,
 "nbformat_minor": 2
}
