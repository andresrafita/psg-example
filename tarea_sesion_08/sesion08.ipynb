{
 "cells": [
  {
   "cell_type": "markdown",
   "metadata": {},
   "source": [
    "# Tuplas de enteros"
   ]
  },
  {
   "cell_type": "code",
   "execution_count": null,
   "metadata": {},
   "outputs": [],
   "source": [
    "enteros = (1,2,3,4,5,6)\n",
    "print(enteros)\n",
    "print(type(enteros))"
   ]
  },
  {
   "cell_type": "markdown",
   "metadata": {},
   "source": [
    "# Tuplas de cadenas"
   ]
  },
  {
   "cell_type": "code",
   "execution_count": null,
   "metadata": {},
   "outputs": [],
   "source": [
    "cadenas = ('hola','mundo','desde','python')\n",
    "print(cadenas)\n",
    "print(type(cadenas))"
   ]
  },
  {
   "cell_type": "markdown",
   "metadata": {},
   "source": [
    "# Tupla mixta"
   ]
  },
  {
   "cell_type": "code",
   "execution_count": null,
   "metadata": {},
   "outputs": [],
   "source": [
    "mixta = (1,'hola',True,2.5)\n",
    "print(mixta)\n",
    "print(type(mixta))"
   ]
  },
  {
   "cell_type": "markdown",
   "metadata": {},
   "source": [
    "# Tupla vacia"
   ]
  },
  {
   "cell_type": "code",
   "execution_count": null,
   "metadata": {},
   "outputs": [],
   "source": [
    "vacia = ()\n",
    "print(vacia)\n",
    "print(type(vacia))"
   ]
  },
  {
   "cell_type": "markdown",
   "metadata": {},
   "source": [
    "## Tupla de un solo elemento"
   ]
  },
  {
   "cell_type": "code",
   "execution_count": null,
   "metadata": {},
   "outputs": [],
   "source": [
    "uno = (1,)\n",
    "print(uno)\n",
    "print(type(uno))"
   ]
  },
  {
   "cell_type": "markdown",
   "metadata": {},
   "source": [
    "## Tupla usando funcion tuple()"
   ]
  },
  {
   "cell_type": "code",
   "execution_count": null,
   "metadata": {},
   "outputs": [],
   "source": [
    "constructor = tuple('hola')\n",
    "print(constructor)\n",
    "print(type(constructor))"
   ]
  },
  {
   "cell_type": "markdown",
   "metadata": {},
   "source": [
    "## Indexing and Slicing\n",
    "\n",
    "### Indexado positivo de tupla"
   ]
  },
  {
   "cell_type": "code",
   "execution_count": null,
   "metadata": {},
   "outputs": [],
   "source": [
    "tupla = (1,2.0,'hola',True)\n",
    "print(tupla[0], type(tupla[0]))\n",
    "print(tupla[1], type(tupla[1]))\n",
    "print(tupla[2], type(tupla[2]))\n",
    "print(tupla[3], type(tupla[3]))"
   ]
  },
  {
   "cell_type": "markdown",
   "metadata": {},
   "source": [
    "### Indexado negativo de tupla"
   ]
  },
  {
   "cell_type": "code",
   "execution_count": null,
   "metadata": {},
   "outputs": [],
   "source": [
    "tupla = (1,2.0,'hola',True)\n",
    "print(tupla[-1], type(tupla[-1]))\n",
    "print(tupla[-2], type(tupla[-2]))\n",
    "print(tupla[-3], type(tupla[-3]))\n",
    "print(tupla[-4], type(tupla[-4]))"
   ]
  },
  {
   "cell_type": "markdown",
   "metadata": {},
   "source": [
    "## Slicing de una tupla"
   ]
  },
  {
   "cell_type": "code",
   "execution_count": null,
   "metadata": {},
   "outputs": [],
   "source": [
    "tupla = (0,1,2,3,4,5,6,7,8,9,10)\n",
    "print(tupla)\n",
    "sub_tupla = tupla[0:5]\n",
    "print(sub_tupla)\n",
    "print(type(sub_tupla))"
   ]
  },
  {
   "cell_type": "markdown",
   "metadata": {},
   "source": [
    "### Slicing de una tupla con pasos positivos"
   ]
  },
  {
   "cell_type": "code",
   "execution_count": null,
   "metadata": {},
   "outputs": [],
   "source": [
    "tupla = (0,1,2,3,4,5,6,7,8,9,10)\n",
    "print(tupla)\n",
    "sub_tupla = tupla[0:10:2]\n",
    "print(sub_tupla)\n",
    "print(type(sub_tupla))"
   ]
  },
  {
   "cell_type": "markdown",
   "metadata": {},
   "source": [
    "### Slicing de una tupla con pasos negativos"
   ]
  },
  {
   "cell_type": "code",
   "execution_count": null,
   "metadata": {},
   "outputs": [],
   "source": [
    "tupla = (0,1,2,3,4,5,6,7,8,9,10)\n",
    "print(tupla)\n",
    "sub_tupla = tupla[7:2:-2]\n",
    "print(sub_tupla)\n",
    "print(type(sub_tupla))"
   ]
  },
  {
   "cell_type": "markdown",
   "metadata": {},
   "source": [
    "### Concatenacion de tuplas"
   ]
  },
  {
   "cell_type": "code",
   "execution_count": null,
   "metadata": {},
   "outputs": [],
   "source": [
    "tupla1 = (1,2,3)\n",
    "tupla2 = (4,5,6)\n",
    "concatenar = tupla1 + tupla2\n",
    "print(tupla1,tupla2)\n",
    "print(concatenar)\n",
    "print(type(concatenar))"
   ]
  },
  {
   "cell_type": "markdown",
   "metadata": {},
   "source": [
    "### Repeticion de tuplas"
   ]
  },
  {
   "cell_type": "code",
   "execution_count": null,
   "metadata": {},
   "outputs": [],
   "source": [
    "tupla = (1,2,3)\n",
    "repetir = tupla * 3\n",
    "print(tupla)\n",
    "print(repetir)\n",
    "print(type(repetir))"
   ]
  },
  {
   "cell_type": "markdown",
   "metadata": {},
   "source": [
    "### Asignacion multiple"
   ]
  },
  {
   "cell_type": "code",
   "execution_count": null,
   "metadata": {},
   "outputs": [],
   "source": [
    "persona = ('Jhon','Doe',22,1.75)\n",
    "nombre,apellido,edad,estatura = persona\n",
    "print(persona)\n",
    "print(nombre)\n",
    "print(apellido)\n",
    "print(edad)\n",
    "print(estatura)"
   ]
  },
  {
   "cell_type": "markdown",
   "metadata": {},
   "source": [
    "#### Metodo index(valor)"
   ]
  },
  {
   "cell_type": "code",
   "execution_count": null,
   "metadata": {},
   "outputs": [],
   "source": [
    "tupla = (1,2.0,'hola',True)\n",
    "print(tupla.index(2.0))\n",
    "print(tupla.index('hola'))"
   ]
  },
  {
   "cell_type": "markdown",
   "metadata": {},
   "source": [
    "#### Metodo count(valor)"
   ]
  },
  {
   "cell_type": "code",
   "execution_count": null,
   "metadata": {},
   "outputs": [],
   "source": [
    "tupla = (1,2.0,'hola',False,'hola','HOLA')\n",
    "print(tupla.count(1))\n",
    "print(tupla.count('hola'))\n",
    "print(tupla.count(10))"
   ]
  },
  {
   "cell_type": "markdown",
   "metadata": {},
   "source": [
    "#### Funcion len()"
   ]
  },
  {
   "cell_type": "code",
   "execution_count": null,
   "metadata": {},
   "outputs": [],
   "source": [
    "tupla = (1,2.0,'hola',True)\n",
    "longitud = len(tupla)\n",
    "print(tupla)\n",
    "print(longitud)"
   ]
  },
  {
   "cell_type": "markdown",
   "metadata": {},
   "source": [
    "#### Funcion max()"
   ]
  },
  {
   "cell_type": "code",
   "execution_count": null,
   "metadata": {},
   "outputs": [],
   "source": [
    "tupla = (1,2,10,5,8,0)\n",
    "maximo = max(tupla)\n",
    "print(tupla)\n",
    "print(maximo)"
   ]
  },
  {
   "cell_type": "markdown",
   "metadata": {},
   "source": [
    "#### Funcion min()"
   ]
  },
  {
   "cell_type": "code",
   "execution_count": null,
   "metadata": {},
   "outputs": [],
   "source": [
    "tupla = ('a','z','c','b','f','d')\n",
    "minimo = min(tupla)\n",
    "print(tupla)\n",
    "print(minimo)"
   ]
  },
  {
   "cell_type": "markdown",
   "metadata": {},
   "source": [
    "#### Funcion sum()"
   ]
  },
  {
   "cell_type": "code",
   "execution_count": null,
   "metadata": {},
   "outputs": [],
   "source": [
    "tupla = (1.0,0.5,2.5,3.1)\n",
    "suma = sum(tupla)\n",
    "print(tupla)\n",
    "print(suma)"
   ]
  },
  {
   "cell_type": "markdown",
   "metadata": {},
   "source": [
    "#### Tuplas anidadas"
   ]
  },
  {
   "cell_type": "code",
   "execution_count": null,
   "metadata": {},
   "outputs": [],
   "source": [
    "tupla = (1,2,3, (4,5,6))\n",
    "print(tupla)\n",
    "print(tupla,type(tupla))\n",
    "print(tupla[3],type(tupla[3]))\n",
    "print (tupla[3][0],type(tupla[3][0]))"
   ]
  },
  {
   "cell_type": "markdown",
   "metadata": {},
   "source": [
    "#### Anidado al detalle"
   ]
  },
  {
   "cell_type": "code",
   "execution_count": null,
   "metadata": {},
   "outputs": [],
   "source": [
    "tupla = (1,2,3, (4,5,6))\n",
    "print(tupla,type(tupla))\n",
    "anidado = tupla[3]\n",
    "print(anidado,type(anidado))\n",
    "valor_anidado_0 = anidado[0]\n",
    "print(valor_anidado_0,type(valor_anidado_0))\n",
    "valor_anidado_1 = tupla[3][1]\n",
    "print(valor_anidado_1,type(valor_anidado_1))"
   ]
  }
 ],
 "metadata": {
  "language_info": {
   "name": "python"
  }
 },
 "nbformat": 4,
 "nbformat_minor": 2
}
