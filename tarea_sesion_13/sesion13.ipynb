{
 "cells": [
  {
   "cell_type": "markdown",
   "metadata": {},
   "source": [
    "# Estructura de control for"
   ]
  },
  {
   "cell_type": "code",
   "execution_count": null,
   "metadata": {},
   "outputs": [],
   "source": [
    "print(\"Inicio\")\n",
    "for i in range(5):\n",
    "    print(i)\n",
    "print(\"Fin\")"
   ]
  },
  {
   "cell_type": "code",
   "execution_count": null,
   "metadata": {},
   "outputs": [],
   "source": [
    "### Ejemplo1: sumar los numeros del 1 al 10 de 2 en 2\n",
    "suma = 0 \n",
    "for i in range(1,11,2): #1,3,5,7,9\n",
    "    suma += i # suma = suma + i\n",
    "print(suma)\n",
    "\n",
    "### Ejemplo2: crear un arbol de navidad de 6 niveles\n",
    "for i in range(0,6):\n",
    "    print(\" \" * (5-i) + \"*\" * i * 2 + \"*\")\n",
    "\n",
    "### Ejemplo3: crear una serie de numeros cuadrados del 1 a 10\n",
    "for i in range(1,11):\n",
    "    print(i**2, end=\" \")\n",
    "\n",
    "### Ejemplo4: crear una lista de numeros pares del 1 al 10\n",
    "pares = []\n",
    "for i in range(0,11,2):\n",
    "    pares.append(i)\n",
    "print(pares)\n",
    "\n",
    "#### Ejercicio1: imprimir los 10 primeros de la serie numeros cubicos\n",
    "for i in range(1,11):\n",
    "    print(i**3, end=\" \")"
   ]
  },
  {
   "cell_type": "markdown",
   "metadata": {},
   "source": [
    "# Ciclo for con secuencia"
   ]
  },
  {
   "cell_type": "code",
   "execution_count": null,
   "metadata": {},
   "outputs": [],
   "source": [
    "for fruta in ['🍎','🍌','🍇','🍉']:\n",
    "    print(fruta)\n",
    "\n",
    "### Ejemplo5: imprimir los elementos de una lista de fiestas\n",
    "fiesta = ['🎄','🎡','🎁','🎊','✨','🕯️']\n",
    "for objeto in fiesta:\n",
    "    print(objeto)\n",
    "\n",
    "### Ejemplo6: imprimir los elementos de una tupla de frutas separadas por coma\n",
    "frutas = ('🍅','🍇','🍍','🍉','🍊')\n",
    "for fruta in frutas:\n",
    "    print(fruta,end=\", \")\n",
    "\n",
    "### Ejemplo 7: imprimir los elementos de un diccionario\n",
    "diccionario = {'🍅':'tomate','🍇':'uva','🍍':'piña','🍉':'sandia','🍊':'naranja'}\n",
    "for clave in diccionario:\n",
    "    print(clave, diccionario[clave])\n",
    "\n",
    "### Ejemplo8: imprimir los elementos de la cadena de evolucion añadiendo una flecha\n",
    "ciclo_vida = '🥚🐣🐥🐤🐔🍗'\n",
    "for etapa in ciclo_vida:\n",
    "    print(i, end=\"->\")"
   ]
  },
  {
   "cell_type": "markdown",
   "metadata": {},
   "source": [
    "## Recorrer elementos con indexacion (listas,tuplas) mediante:\n",
    "### in como pertenencia"
   ]
  },
  {
   "cell_type": "code",
   "execution_count": null,
   "metadata": {},
   "outputs": [],
   "source": [
    "### Ejemplo9: listar los elementos de la siguiente serie ['🐶','😺','🐰','🐭']\n",
    "animales = ['🐶','😺','🐰','🐭']\n",
    "for animal in animales:\n",
    "    print(i)\n",
    "\n",
    "### Ejemplo10: listar los elementos de la siguiente serie ['🐶','😺','🐰','🐭']\n",
    "animales = ['🐶','😺','🐰','🐭']\n",
    "for i in range(len(animales)):\n",
    "    print(animales[i])\n",
    "\n",
    "### Ejemplo11: listar los elementos de la siguiente serie ['🐶','😺','🐰','🐭']\n",
    "animales = ['🐶','😺','🐰','🐭']\n",
    "for i,animal in enumerate(animales):\n",
    "    print(i,animal,animales[i])\n",
    "\n",
    "#### Ejercicio2: imprimir la cantidad de veces los elementos de la cadena '⚽🏀🏐🎱' de acuerdo a su posicion mas 1\n",
    "esferas = '⚽🏀🏐🎱'\n",
    "for i, esfera in enumerate(esferas):\n",
    "    print(esfera*(i+1))"
   ]
  },
  {
   "cell_type": "markdown",
   "metadata": {},
   "source": [
    "# While"
   ]
  },
  {
   "cell_type": "code",
   "execution_count": null,
   "metadata": {},
   "outputs": [],
   "source": [
    "### Ejemplo12: imprimir los numeros mientras sean menores o igual a 5 empezando desde 0\n",
    "i = 0\n",
    "while i <= 5:\n",
    "    print(i)\n",
    "    i += 1\n",
    "\n",
    "### Ejemplo13: sumar los numeros mientras no se ingrese por teclado el numero 0\n",
    "suma = 0\n",
    "numero = int(input(\"Ingrese un numero: \"))\n",
    "while numero != 0:\n",
    "    suma += numero\n",
    "    numero = int(input(\"Ingrese un numero: \"))\n",
    "print(suma)\n",
    "\n",
    "#### Ejercicio3: ingresa un numero por teclado y genera un contador hasta 0 si el numero es negativo no hace nada\n",
    "numero = int(input(\"Ingrese un numero: \"))\n",
    "while numero >= 0:\n",
    "    print(numero)\n",
    "    numero -= 1"
   ]
  },
  {
   "cell_type": "markdown",
   "metadata": {},
   "source": [
    "# Break"
   ]
  },
  {
   "cell_type": "code",
   "execution_count": null,
   "metadata": {},
   "outputs": [],
   "source": [
    "### Ejemplo14: de la siguiente lista de frutas imprimir los elementos hasta que se encuentre un gusano con for\n",
    "frutas = ['🍎','🍌','🍇','🍉','🐛','🍍','🍊']\n",
    "for fruta in frutas:\n",
    "    if fruta == '🐛':\n",
    "        break\n",
    "    print(fruta)\n",
    "print(\"Fin\")\n",
    "\n",
    "#Con while\n",
    "frutas = ['🍎','🍌','🍇','🍉','🐛','🍍','🍊']\n",
    "i = \"\"\n",
    "while i != '🐛':\n",
    "    i = frutas.pop(0)\n",
    "    print(i)\n",
    "print(\"Fin\")\n",
    "\n",
    "### Ejemplo15: crear un ciclo infinito que imprima un contador incremental\n",
    "contador = 0\n",
    "while True:\n",
    "    print(contador)\n",
    "    contador += 1\n",
    "\n",
    "### Ejemplo16: crear un infinito que pida una cadena de texto la ponga en mayusculas y la imprima hasta que se ingrese la palabar salir\n",
    "print(\"Ejemplo 16\")\n",
    "while True:\n",
    "    texto = input(\"Ingrese un texto: \")\n",
    "    if texto == \"salir\":\n",
    "        break\n",
    "    print(texto.upper())\n",
    "\n",
    "#### Ejercicio4: crear un ciclo infinito que reciba un numero por teclado y verifique si es par o impar hasta que se ingrese el numero 0\n",
    "print(\"Ejercicio 4\")\n",
    "while True:\n",
    "    texto = int(input(\"Ingrese un numero: \"))\n",
    "    if numero == 0:\n",
    "        break\n",
    "    print(\"Par\" if numero % 2 == 0 else \"Impar\")"
   ]
  },
  {
   "cell_type": "markdown",
   "metadata": {},
   "source": [
    "# Estructuras por comprension"
   ]
  },
  {
   "cell_type": "code",
   "execution_count": null,
   "metadata": {},
   "outputs": [],
   "source": [
    "### Ejemplo17: crear una lista de los numeros pares del 2 al 10\n",
    "pares = [i for i in range(2,11,2)]\n",
    "print(pares)\n",
    "\n",
    "### Ejemplo18: crear una lista de los numeros pares del 2 al 10 con condicional\n",
    "pares = [i for i in range(2,11) if i % 2 == 0]\n",
    "print(pares)\n",
    "\n",
    "### Ejemplo19: crear una lista de los numeros pares del 2 al 10 en un diccionario donde si es par diga \"par\" y si es impar diga \"impar\"\n",
    "pares = {i: \"Par\" if i % 2 == 0 else \"Impar\" for i in range(2,11)}\n",
    "print(pares)\n",
    "\n",
    "#### Ejercicio5: crear una tupla de los numeros impares del 1 al 10 usando una tupla por comprension\n",
    "impares = tuple(i for i in range(1,11) if i % 2 != 0)\n",
    "print(impares)"
   ]
  },
  {
   "cell_type": "markdown",
   "metadata": {},
   "source": [
    "# Ciclos anidados"
   ]
  },
  {
   "cell_type": "code",
   "execution_count": null,
   "metadata": {},
   "outputs": [],
   "source": [
    "### Ejemplo20: imprimir las tablas de multiplicar 1 y 2\n",
    "for i in range(1,3):\n",
    "    print(f\"Tabla del {i}\")\n",
    "    for j in range(1,11):\n",
    "        print(f\"{i} x {j} = {i*j}\")\n",
    "\n",
    "### Ejemplo21: introducir un numero por teclado y crear un tabla de multiplicar de ese numero del 1 al 10 si se ingresa 0 termina el programa\n",
    "while True:\n",
    "    numero = int(input(\"Ingrese un numero: \"))\n",
    "    if numero == 0:\n",
    "        break\n",
    "    print(f\"Tabla del {numero}\")\n",
    "    for i in range(1,11):\n",
    "        print(f\"{numero} x {i} = {numero*i}\")\n",
    "print(\"Fin\")"
   ]
  },
  {
   "cell_type": "markdown",
   "metadata": {},
   "source": [
    "## Matriz"
   ]
  },
  {
   "cell_type": "code",
   "execution_count": null,
   "metadata": {},
   "outputs": [],
   "source": [
    "matriz = [[1,2,3],[4,5,6],[7,8,9]]\n",
    "for fila in matriz:\n",
    "    for columna in fila:\n",
    "        print(columna, end=\" \")\n",
    "    print()\n",
    "\n",
    "### Ejemplo22: introducir un numero por teclado y crear una matriz nxn con la letra x\n",
    "n = int(input(\"Ingrese un numero: \"))\n",
    "matriz = [[\"x\" for i in range(n)] for j in range(n)]\n",
    "for fila in matriz:\n",
    "    for columna in fila:\n",
    "        print(columna, end=\" \")\n",
    "    print()\n",
    "print(matriz)\n",
    "\n",
    "#### Ejercicio6: crear una matriz ingresando un numero por teclado para el tamaño de la matriz y en cada posicion coloar una tupla con (i,j)\n",
    "n = int(input(\"Ingrese un numero: \"))\n",
    "matriz = [[(j,i) for i in range(n)] for j in range(n)]\n",
    "for fila in matriz:\n",
    "    for columna in fila:\n",
    "        print(columna,end=\" \")\n",
    "    print()\n",
    "print(matriz)\n"
   ]
  }
 ],
 "metadata": {
  "language_info": {
   "name": "python"
  }
 },
 "nbformat": 4,
 "nbformat_minor": 2
}
