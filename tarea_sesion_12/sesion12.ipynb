{
 "cells": [
  {
   "cell_type": "markdown",
   "metadata": {},
   "source": [
    "# Estructura de un condicional if"
   ]
  },
  {
   "cell_type": "code",
   "execution_count": null,
   "metadata": {},
   "outputs": [],
   "source": [
    "print(\"Inicio\")\n",
    "condicion = True\n",
    "if condicion:\n",
    "    # Bloque de codigo\n",
    "    print(\"Cumple condicion\")\n",
    "print(\"Fin\")"
   ]
  },
  {
   "cell_type": "markdown",
   "metadata": {},
   "source": [
    "### Ejemplo: dado un numero, imprimir si es par"
   ]
  },
  {
   "cell_type": "code",
   "execution_count": null,
   "metadata": {},
   "outputs": [],
   "source": [
    "print(\"Inicio\")\n",
    "numero = 4\n",
    "if numero % 2 == 0: # Si el modulo de 2 es 0\n",
    "    print (\"El numero es par\")\n",
    "print(\"Fin\")"
   ]
  },
  {
   "cell_type": "markdown",
   "metadata": {},
   "source": [
    "# Estructura de un if-else"
   ]
  },
  {
   "cell_type": "code",
   "execution_count": null,
   "metadata": {},
   "outputs": [],
   "source": [
    "print(\"Inicio\")\n",
    "condicion = False\n",
    "if condicion:\n",
    "    # Bloque de codigo\n",
    "    print(\"Cumple condicion\")\n",
    "else:\n",
    "    # Bloque de codigo\n",
    "    print(\"No cumple condicion\")\n",
    "print(\"Fin\")"
   ]
  },
  {
   "cell_type": "markdown",
   "metadata": {},
   "source": [
    "### Ejemplo: Dado un numero, imprimir si es par o impar"
   ]
  },
  {
   "cell_type": "code",
   "execution_count": null,
   "metadata": {},
   "outputs": [],
   "source": [
    "print(\"Inicio\")\n",
    "numero = 3\n",
    "if numero % 2 == 0: #Si el modulo de 2 es 0\n",
    "    print(\"El numero es par\")\n",
    "else:\n",
    "    print(\"El numero es impar\")\n",
    "print(\"Fin\")"
   ]
  },
  {
   "cell_type": "markdown",
   "metadata": {},
   "source": [
    "# Estructura de if-anidado"
   ]
  },
  {
   "cell_type": "code",
   "execution_count": null,
   "metadata": {},
   "outputs": [],
   "source": [
    "print(\"Inicio Anidado\")\n",
    "condicion_1 = True\n",
    "condicion_2 = False\n",
    "if condicion_1:\n",
    "    print(\"Cumple condicion 1\")\n",
    "    if condicion_2:\n",
    "        print(\"Cumple condicion 2\")\n",
    "    else:\n",
    "        print(\"No cumple condicion 2\")\n",
    "else:\n",
    "    print(\"No cumple condicion 1\")\n",
    "print(\"Fin\")"
   ]
  },
  {
   "cell_type": "markdown",
   "metadata": {},
   "source": [
    "### Ejemplo: Dado un numero, imprimir si es par, impar o cero"
   ]
  },
  {
   "cell_type": "code",
   "execution_count": null,
   "metadata": {},
   "outputs": [],
   "source": [
    "print(\"Inicio par, impar o cero\")\n",
    "numero = 0\n",
    "if numero > 0 or numero < 0:\n",
    "    if numero % 2 == 0: #Si el modulo de 2 es 0\n",
    "        print(\"El numero es par\")\n",
    "    else:\n",
    "        print(\"El numero es impar\")\n",
    "else:\n",
    "    print(\"El numero es cero\")\n",
    "print(\"Fin\")"
   ]
  },
  {
   "cell_type": "markdown",
   "metadata": {},
   "source": [
    "# Estructura de un condicional elif"
   ]
  },
  {
   "cell_type": "code",
   "execution_count": null,
   "metadata": {},
   "outputs": [],
   "source": [
    "print(\"Inicio elif\")\n",
    "condicion_1 = False\n",
    "condicion_2 = True\n",
    "if condicion_1:\n",
    "    print(\"Cumple condicion 1\")\n",
    "elif condicion_2:\n",
    "    print(\"Cumple condicion 2\")\n",
    "else:\n",
    "    print(\"No cumple condicion 1 ni 2\")\n",
    "print(\"Fin\")"
   ]
  },
  {
   "cell_type": "markdown",
   "metadata": {},
   "source": [
    "#### Ejemplo: Dado un numero, imprimir si es positivo, negativo o cero"
   ]
  },
  {
   "cell_type": "code",
   "execution_count": null,
   "metadata": {},
   "outputs": [],
   "source": [
    "print(\"Inicio positivo, negativo o cero\")\n",
    "numero = 0\n",
    "if numero > 0:\n",
    "    print(\"El numero es positivo\")\n",
    "elif numero < 0:\n",
    "    print(\"El numero es negativo\")\n",
    "elif numero != 0:\n",
    "    print(\"El numero es cero\")\n",
    "else:\n",
    "    print(\"Error\")\n",
    "print(\"Fin\")"
   ]
  },
  {
   "cell_type": "markdown",
   "metadata": {},
   "source": [
    "# Estructura de operador ternario"
   ]
  },
  {
   "cell_type": "code",
   "execution_count": null,
   "metadata": {},
   "outputs": [],
   "source": [
    "print(\"Inicio Ternario\")\n",
    "condicion = True\n",
    "resultado = \"Cumple\" if condicion else \"no cumple\"\n",
    "print(resultado)\n",
    "print(\"Fin\")"
   ]
  },
  {
   "cell_type": "markdown",
   "metadata": {},
   "source": [
    "### Ejemplo: Dado un numero, imprimir si es par o impar"
   ]
  },
  {
   "cell_type": "code",
   "execution_count": null,
   "metadata": {},
   "outputs": [],
   "source": [
    "print(\"Inicio ternario par, impar\")\n",
    "numero = 3\n",
    "resultado = \"El numero es par\" if numero % 2 == 0 else \"El numero es impar\"\n",
    "print(resultado)\n",
    "print(\"Fin\")"
   ]
  },
  {
   "cell_type": "markdown",
   "metadata": {},
   "source": [
    "# Estructura Truthiness"
   ]
  },
  {
   "cell_type": "code",
   "execution_count": null,
   "metadata": {},
   "outputs": [],
   "source": [
    "print(\"Truthiness Enteros\")\n",
    "dividendo = int(input(\"Dividendo: \"))\n",
    "divisor = int(input(\"Divisor: \"))\n",
    "print(dividendo,divisor)\n",
    "if divisor: #divisor != 0\n",
    "    print(dividendo/divisor)\n",
    "else:\n",
    "    print(\"No se puede dividir entre cero\")\n",
    "print(\"Fin\")"
   ]
  },
  {
   "cell_type": "markdown",
   "metadata": {},
   "source": [
    "### Ejemplo: Introducir dos numeros flotantes y dividirlos"
   ]
  },
  {
   "cell_type": "code",
   "execution_count": null,
   "metadata": {},
   "outputs": [],
   "source": [
    "dividendo = float(input(\"Dividendo: \"))\n",
    "divisor = float(input(\"Divisor: \"))\n",
    "print(dividendo,divisor)\n",
    "if divisor: #divisor != 0.0\n",
    "    print(dividendo/divisor)\n",
    "else:\n",
    "    print(\"No se puede dividir entre cero\")\n",
    "print(\"Fin\")"
   ]
  },
  {
   "cell_type": "markdown",
   "metadata": {},
   "source": [
    "### Ejemplo2: Introducir una cadena y verificar si es vacia"
   ]
  },
  {
   "cell_type": "code",
   "execution_count": null,
   "metadata": {},
   "outputs": [],
   "source": [
    "print(\"Truthiness Cadenas\")\n",
    "cadena = input(\"Cadena: \")\n",
    "print(cadena)\n",
    "if cadena: # len(cadena) != 0 or cadena != \"\"\n",
    "    print(\"La cadena no esta vacia\")\n",
    "else:\n",
    "    print(\"La cadena esta vacia\")\n",
    "print(\"Fin\")\n"
   ]
  },
  {
   "cell_type": "markdown",
   "metadata": {},
   "source": [
    "### Ejemplo3: Introducir una tupla y verificar si es vacia"
   ]
  },
  {
   "cell_type": "code",
   "execution_count": null,
   "metadata": {},
   "outputs": [],
   "source": [
    "print(\"Truthiness Tuplas\") # Aplica igual para listas y conjuntos\n",
    "tupla = tuple(input(\"Tupla: \"))\n",
    "print(tupla)\n",
    "if tupla: # len(tupla) != 0 or tupla != \"\"\n",
    "    print(\"La tupla no esta vacia\")\n",
    "else:\n",
    "    print(\"La tupla esta vacia\")\n",
    "print(\"Fin\")"
   ]
  },
  {
   "cell_type": "markdown",
   "metadata": {},
   "source": [
    "### Ejemplo4: Introducir la clave un valor y verificar si es vacio"
   ]
  },
  {
   "cell_type": "code",
   "execution_count": null,
   "metadata": {},
   "outputs": [],
   "source": [
    "print(\"Truthiness Diccionarios\") \n",
    "diccionario = {}\n",
    "clave = input(\"Clave: \")\n",
    "valor = input(\"Valor: \")\n",
    "if clave:\n",
    "    diccionario = {clave:valor}\n",
    "print(diccionario)\n",
    "if diccionario: #diccionario != {}\n",
    "    print(\"El diccionario no esta vacio\")\n",
    "else:\n",
    "    print(\"El diccionario esta vacio\")\n",
    "print(\"Fin\")\n"
   ]
  },
  {
   "cell_type": "markdown",
   "metadata": {},
   "source": [
    "### Ejemplo5: Introducir un valor y verificar si es None"
   ]
  },
  {
   "cell_type": "code",
   "execution_count": null,
   "metadata": {},
   "outputs": [],
   "source": [
    "print(\"Truthiness None\") \n",
    "valor = None\n",
    "print(valor,type(valor))\n",
    "if valor: #valor != None\n",
    "    print(\"El valor no es None\")\n",
    "else:\n",
    "    print(\"El valor es None\")\n",
    "print(\"Fin\")"
   ]
  },
  {
   "cell_type": "markdown",
   "metadata": {},
   "source": [
    "## Ejemplo final: El operador ternario es util para asignar valores a variables"
   ]
  },
  {
   "cell_type": "code",
   "execution_count": null,
   "metadata": {},
   "outputs": [],
   "source": [
    "entero = int(input(\"Entero: \"))\n",
    "resultado = \"Diferente de 0\" if entero else \"Igual a 0\"\n",
    "print(resultado)\n",
    "flotante = float(input(\"Flotante: \"))\n",
    "resultado = \"Diferente de 0.0\" if flotante else \"Igual a 0.0\"\n",
    "print(resultado)\n",
    "cadena = input (\"Cadena: \")\n",
    "resultado = \"No esta vacia\" if cadena else \"Esta vacia\"\n",
    "print(resultado)\n"
   ]
  },
  {
   "cell_type": "markdown",
   "metadata": {},
   "source": [
    "#### Ejercicio1: Tienes un dispositivo que mide la temperatura y si la temperatura es mayor a 30C enciende un ventilador y si es menor a 20C lo apaga"
   ]
  },
  {
   "cell_type": "code",
   "execution_count": null,
   "metadata": {},
   "outputs": [],
   "source": [
    "temperatura = float(input(\"Temperatura: \"))\n",
    "if temperatura > 30:\n",
    "    print(\"Encender ventilador\")\n",
    "elif temperatura < 20:\n",
    "    print(\"Apagar ventilador\")"
   ]
  },
  {
   "cell_type": "markdown",
   "metadata": {},
   "source": [
    "#### Ejercicio2: Tienes una cesta de frutas y quieres saber si tienes manzanas, si hay manzanas las cuentas y si no hay compras dos manzanas\n"
   ]
  },
  {
   "cell_type": "code",
   "execution_count": null,
   "metadata": {},
   "outputs": [],
   "source": [
    "cesta = ['🍎','🍑','🍓','🍉']\n",
    "print(cesta)\n",
    "if '🍎' in cesta:\n",
    "    print(f\"Hay {cesta.count('🍎')} manzanas\")\n",
    "else:\n",
    "    cesta.extend(['🍎','🍎'])\n",
    "    print(cesta)\n",
    "# Con operador ternario\n",
    "cesta = ['🍑','🍓','🍉']\n",
    "print(cesta)\n",
    "resultado = f\"Hay {cesta.count('🍎')} manzanas\" if '🍎' in cesta else cesta.extend(['🍎','🍎'])\n",
    "print(resultado)\n",
    "print(cesta) # Tener cuidado al usar un operador ternario puede salir errores si no haces bien"
   ]
  },
  {
   "cell_type": "markdown",
   "metadata": {},
   "source": [
    "#### Ejercicio3: En un diccionario tienes almacenado un animal y quieres saber si es un mamifero\n"
   ]
  },
  {
   "cell_type": "code",
   "execution_count": null,
   "metadata": {},
   "outputs": [],
   "source": [
    "animal = {'especie':'🐶','nombre':'Firulais','mamifero':True}\n",
    "print(animal)\n",
    "if animal.get('mamifero'): #animal['mamifero']\n",
    "    print('Es un mamifero')\n",
    "else:\n",
    "    print('No es un mamifero')"
   ]
  },
  {
   "cell_type": "markdown",
   "metadata": {},
   "source": [
    "#### Ejercicio4: Dado dos conjuntos, verificar si tienen elementos en comun y mostrarlos y si no, unirlos\n",
    "#### {'⚽','🏀','⚾'},{'🏈','🏉','🎾'}"
   ]
  },
  {
   "cell_type": "code",
   "execution_count": null,
   "metadata": {},
   "outputs": [],
   "source": [
    "conjunto_1 = {'⚽','🏀','⚾'}\n",
    "conjunto_2 = {'🏈','🏉','🎾'}\n",
    "print(conjunto_1,conjunto_2)\n",
    "if conjunto_1.isdisjoint(conjunto_2): # len(conjunto_1.intersection(conjunto_2)) == 0\n",
    "    conjunto_1.update(conjunto_2)\n",
    "    print(conjunto_1)\n",
    "else:\n",
    "    print(\"Tienen elementos en comun\")\n",
    "    print(conjunto_1.intersection(conjunto_2))"
   ]
  },
  {
   "cell_type": "markdown",
   "metadata": {},
   "source": [
    "#### Ejercicio5: Validar si un correo electronico es valido usando input\n",
    "#### ✅: mail@domain.com, ma.il@domain.com\n",
    "#### ❌: mail@domain, maildomain.com,@.\n",
    "#### ❌: mail@@domain.com, mail@.com"
   ]
  },
  {
   "cell_type": "code",
   "execution_count": null,
   "metadata": {},
   "outputs": [],
   "source": [
    "correo = input(\"Correo: \") #Solucion anidada\n",
    "if \"@\" in correo and \".\" in correo and correo.count(\"@\") == 1:\n",
    "    if correo.find(\"@\") < correo.rfind(\".\") and correo.find(\"@\") > 0 and correo.rfind(\".\") < len(correo) - 1:\n",
    "        if correo.rfind(\".\") - correo.find(\"@\") > 1:\n",
    "            if correo.find(\".\") - correo.find(\"@\") > 1:\n",
    "                print(\"El correo es valido\")\n",
    "            else:\n",
    "                print(\"El correo no es valido\")\n",
    "        else:\n",
    "            print(\"El correo no es valido\")\n",
    "    else:\n",
    "        print(\"El correo no es valido\")\n",
    "else: \n",
    "    print(\"El correo no es valido\")\n",
    "\n",
    "correo = input(\"Correo: \") #Solucion con elif\n",
    "if \"@\" not in correo or \".\" not in correo or correo.count(\"@\") != 1:\n",
    "    print(\"El correo no es valido\")\n",
    "elif correo.find(\"@\") >= correo.rfind(\".\") or correo.find(\"@\") == 0 or correo.rfind(\".\") == len(correo) - 1:\n",
    "    print(\"El correo no es valido\")\n",
    "elif correo.rfind(\".\") - correo.find(\"@\") <= 1:\n",
    "    print(\"El correo no es valido\")\n",
    "elif correo.find(\".\") - correo.find(\"@\") == 1:\n",
    "    print(\"El correo no es valido\")\n",
    "else:\n",
    "    print(\"El correo es valido\")"
   ]
  }
 ],
 "metadata": {
  "language_info": {
   "name": "python"
  }
 },
 "nbformat": 4,
 "nbformat_minor": 2
}
