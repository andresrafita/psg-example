{
 "cells": [
  {
   "cell_type": "markdown",
   "metadata": {},
   "source": [
    "#Tipo de valores#"
   ]
  },
  {
   "cell_type": "code",
   "execution_count": null,
   "metadata": {
    "vscode": {
     "languageId": "plaintext"
    }
   },
   "outputs": [],
   "source": [
    "print (type (1) )"
   ]
  },
  {
   "cell_type": "markdown",
   "metadata": {},
   "source": [
    "##Valores enteros##"
   ]
  },
  {
   "cell_type": "code",
   "execution_count": null,
   "metadata": {
    "vscode": {
     "languageId": "plaintext"
    }
   },
   "outputs": [],
   "source": [
    "# valor 10 entero\n",
    "print (10)\n",
    "print ( type (10) )\n",
    "\n",
    "# Variable 100 Entero\n",
    "variable = 100\n",
    "print (variable)\n",
    "print ( type (variable) )\n",
    "\n",
    "# Variable 20 Entero\n",
    "variable_2 = int (20)\n",
    "print (variable_2)\n",
    "print ( type (variable_2) )"
   ]
  },
  {
   "cell_type": "markdown",
   "metadata": {},
   "source": [
    "Valores decimales, binarios, octales y hexadecimales"
   ]
  },
  {
   "cell_type": "code",
   "execution_count": null,
   "metadata": {
    "vscode": {
     "languageId": "plaintext"
    }
   },
   "outputs": [],
   "source": [
    "# Valor 10 en base decimal\n",
    "print (\"Base decimal\")\n",
    "print (10)\n",
    "\n",
    "# Valor 10 en binario\n",
    "print (\"Base binaria\")\n",
    "print (0b1010)\n",
    "\n",
    "# Valor 10 en octal\n",
    "print (\"Base octal\")\n",
    "print (0o12)\n",
    "\n",
    "# Valor 10 en hexadecimal\n",
    "print (\"Base hexadecimal\")\n",
    "print (0xa)"
   ]
  },
  {
   "cell_type": "markdown",
   "metadata": {},
   "source": [
    "##Limite de digitos##"
   ]
  },
  {
   "cell_type": "code",
   "execution_count": null,
   "metadata": {
    "vscode": {
     "languageId": "plaintext"
    }
   },
   "outputs": [],
   "source": [
    "# Entero con 60 dígitos\n",
    "variable_3 = 123456789012345678901234567890123456789012345678901234567890\n",
    "print (variable_3)\n",
    "print ( type (variable_3) )\n",
    "\n",
    "# Valor 0.5 Flotante\n",
    "print (0.5)\n",
    "print ( type (0.5) )\n",
    "\n",
    "# Variable 0.100546 Flotante\n",
    "variable_4 = 0.100546\n",
    "print (variable_4)\n",
    "print ( type (variable_4) )\n",
    "\n",
    "# Variable 1 Flotante\n",
    "variable_7 = float (1)\n",
    "print(variable_7)\n",
    "print ( type (variable_7) )\n",
    "\n",
    "# Precisión de 17 decimales\n",
    "variable_5 = 0.999999999999999999\n",
    "print(variable_5)\n",
    "print ( type (variable_5) )"
   ]
  },
  {
   "cell_type": "markdown",
   "metadata": {},
   "source": [
    "###Operadores aritmeticos###"
   ]
  },
  {
   "cell_type": "code",
   "execution_count": null,
   "metadata": {
    "vscode": {
     "languageId": "plaintext"
    }
   },
   "outputs": [],
   "source": [
    "# Valor 2.0e-3 Flotante\n",
    "variable_6 = 2.0e-3\n",
    "print(variable_6)\n",
    "print ( type (variable_6) )"
   ]
  },
  {
   "cell_type": "markdown",
   "metadata": {},
   "source": [
    "##Operadores Aritmeticos##"
   ]
  },
  {
   "cell_type": "code",
   "execution_count": null,
   "metadata": {
    "vscode": {
     "languageId": "plaintext"
    }
   },
   "outputs": [],
   "source": [
    "a = 10\n",
    "b = 3\n",
    "\n",
    "#suma\n",
    "print('suma')\n",
    "print(a + b)\n",
    "\n",
    "#resta\n",
    "print('resta')\n",
    "print(a - b)\n",
    "\n",
    "#multiplicacion\n",
    "print('multiplicacion')\n",
    "print(a * b)\n",
    "\n",
    "#division\n",
    "print('division')\n",
    "print(a / b)\n",
    "\n",
    "#potencia\n",
    "print('potencia')\n",
    "print(a ** b)\n",
    "\n",
    "#division entera\n",
    "print('division entera')\n",
    "print(a // b)\n",
    "\n",
    "#modulo\n",
    "print('modulo')\n",
    "print(a % b)"
   ]
  },
  {
   "cell_type": "markdown",
   "metadata": {},
   "source": [
    "Operaciones complejas"
   ]
  },
  {
   "cell_type": "code",
   "execution_count": null,
   "metadata": {
    "vscode": {
     "languageId": "plaintext"
    }
   },
   "outputs": [],
   "source": [
    "minutos = 300\n",
    "tiempo_extra_segundos = 3600\n",
    "horas = (minutos + tiempo_extra_segundos / 60) / 60\n",
    "print(horas)\n",
    "print (\"Operadores de comparación\")\n",
    "\n",
    "comparar = 10\n",
    "print (comparar < 10)\n",
    "print (comparar > 10)\n",
    "print (comparar == 10)\n",
    "print (comparar <= 10)\n",
    "print (comparar >= 10)\n",
    "print (comparar != 10)\n",
    "print (\"Operadores de comparación int - float\")\n",
    "\n",
    "entero = 10\n",
    "flotante = 10.0\n",
    "print (entero < flotante)\n",
    "print (entero > flotante)\n",
    "print (entero == flotante)\n",
    "print (entero <= flotante)\n",
    "print (entero >= flotante)\n",
    "print (entero != flotante)"
   ]
  }
 ],
 "metadata": {
  "language_info": {
   "name": "python"
  }
 },
 "nbformat": 4,
 "nbformat_minor": 2
}
